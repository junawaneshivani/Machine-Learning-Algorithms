{
 "cells": [
  {
   "cell_type": "markdown",
   "id": "fb6edadf",
   "metadata": {},
   "source": [
    "## Choosing the right estimator/algorithm for our problem\n",
    "Scikit-learn uses estimator as another term for machine learning algorithms\n",
    "\n",
    "* **Classification** - predicting whether a sample is one thing or another\n",
    "* **Regression** - predicting a number\n",
    "\n",
    "![ml_map](../docs/ml_map.png)"
   ]
  },
  {
   "cell_type": "code",
   "execution_count": null,
   "id": "b29eb6f4",
   "metadata": {},
   "outputs": [],
   "source": []
  }
 ],
 "metadata": {
  "kernelspec": {
   "display_name": "Python 3",
   "language": "python",
   "name": "python3"
  },
  "language_info": {
   "codemirror_mode": {
    "name": "ipython",
    "version": 3
   },
   "file_extension": ".py",
   "mimetype": "text/x-python",
   "name": "python",
   "nbconvert_exporter": "python",
   "pygments_lexer": "ipython3",
   "version": "3.8.8"
  }
 },
 "nbformat": 4,
 "nbformat_minor": 5
}
